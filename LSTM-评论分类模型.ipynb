{
 "cells": [
  {
   "cell_type": "markdown",
   "id": "c048c74c",
   "metadata": {},
   "source": [
    "获取数据函数\n",
    "--"
   ]
  },
  {
   "cell_type": "code",
   "execution_count": 1,
   "id": "4c03830b",
   "metadata": {},
   "outputs": [],
   "source": [
    "def get_data(path):\n",
    "    data = []\n",
    "    with open(path, 'r', encoding='utf-8') as f:\n",
    "        for line in f:\n",
    "            data.append((line[-2], line[: -4]))\n",
    "    return iter(data)"
   ]
  },
  {
   "cell_type": "code",
   "execution_count": 2,
   "id": "1ccc0823",
   "metadata": {},
   "outputs": [],
   "source": [
    "raw_data = get_data('comment.txt')"
   ]
  },
  {
   "cell_type": "code",
   "execution_count": 3,
   "id": "8e9c5ea1",
   "metadata": {},
   "outputs": [
    {
     "data": {
      "text/plain": [
       "('0', '才用就发现相机打开迟钝，半天反应不过来，有时候还会卡出去，他们又不给解决方案。')"
      ]
     },
     "execution_count": 3,
     "metadata": {},
     "output_type": "execute_result"
    }
   ],
   "source": [
    "next(raw_data)"
   ]
  },
  {
   "cell_type": "markdown",
   "id": "535448f9",
   "metadata": {},
   "source": [
    "构建文本分词器（分词的同时去除无意义的停用词）\n",
    "--"
   ]
  },
  {
   "cell_type": "code",
   "execution_count": 4,
   "id": "1c6df989",
   "metadata": {},
   "outputs": [],
   "source": [
    "def get_stopwords(path):\n",
    "    stop_words = []\n",
    "    with open(path, 'r', encoding='utf-8') as f:\n",
    "        for line in f:\n",
    "            stop_words.append(line.strip('\\n'))\n",
    "    return stop_words"
   ]
  },
  {
   "cell_type": "code",
   "execution_count": 5,
   "id": "bb1037bf",
   "metadata": {},
   "outputs": [],
   "source": [
    "stop_words = get_stopwords('stopword.txt')"
   ]
  },
  {
   "cell_type": "code",
   "execution_count": 6,
   "id": "45205ac5",
   "metadata": {},
   "outputs": [],
   "source": [
    "import jieba\n",
    "def tokenizer(sentence):\n",
    "    words = jieba.lcut(sentence)\n",
    "    for word in words:\n",
    "        if word in stop_words:\n",
    "            words.remove(word)\n",
    "    return words"
   ]
  },
  {
   "cell_type": "code",
   "execution_count": 7,
   "id": "52683c84",
   "metadata": {},
   "outputs": [
    {
     "name": "stderr",
     "output_type": "stream",
     "text": [
      "Building prefix dict from the default dictionary ...\n",
      "Loading model from cache C:\\Users\\lenovo\\AppData\\Local\\Temp\\jieba.cache\n",
      "Loading model cost 0.847 seconds.\n",
      "Prefix dict has been built successfully.\n"
     ]
    },
    {
     "data": {
      "text/plain": [
       "['这是', '停', '用词', '测试', '会', '删除', '？']"
      ]
     },
     "execution_count": 7,
     "metadata": {},
     "output_type": "execute_result"
    }
   ],
   "source": [
    "tokenizer('这是一个停用词测试，会不会删除呢？')"
   ]
  },
  {
   "cell_type": "markdown",
   "id": "218e485d",
   "metadata": {},
   "source": [
    "根据分词结果构建词典，形成（词：索引）的映射\n",
    "--"
   ]
  },
  {
   "cell_type": "code",
   "execution_count": 8,
   "id": "22e4d74c",
   "metadata": {},
   "outputs": [],
   "source": [
    "from torchtext.vocab import build_vocab_from_iterator\n",
    "\n",
    "def yield_tokens(data):\n",
    "    for label, comment in data:\n",
    "        yield tokenizer(comment)\n",
    "\n",
    "vocab = build_vocab_from_iterator(yield_tokens(raw_data), specials=[\"<unk>\"])\n",
    "vocab.set_default_index(vocab[\"<unk>\"])\n",
    "# 用<unk>填充那些不在词表中的词。"
   ]
  },
  {
   "cell_type": "code",
   "execution_count": 9,
   "id": "37cce57e",
   "metadata": {},
   "outputs": [
    {
     "data": {
      "text/plain": [
       "45707"
      ]
     },
     "execution_count": 9,
     "metadata": {},
     "output_type": "execute_result"
    }
   ],
   "source": [
    "len(vocab)"
   ]
  },
  {
   "cell_type": "code",
   "execution_count": 10,
   "id": "7811cb4d",
   "metadata": {},
   "outputs": [
    {
     "data": {
      "text/plain": [
       "[276, 0, 41407, 843]"
      ]
     },
     "execution_count": 10,
     "metadata": {},
     "output_type": "execute_result"
    }
   ],
   "source": [
    "vocab(tokenizer('这是词典索引测试'))"
   ]
  },
  {
   "cell_type": "markdown",
   "id": "16ba0013",
   "metadata": {},
   "source": [
    "### 保存词典"
   ]
  },
  {
   "cell_type": "code",
   "execution_count": 15,
   "id": "24152af1",
   "metadata": {},
   "outputs": [],
   "source": [
    "import pickle\n",
    "output = open('emb/vocab.pkl', 'wb')\n",
    "pickle.dump(vocab, output)\n",
    "output.close()"
   ]
  },
  {
   "cell_type": "markdown",
   "id": "475d71b3",
   "metadata": {},
   "source": [
    "数据处理管道，将文本映射成词的索引的集合，将标签转换成整数\n",
    "--"
   ]
  },
  {
   "cell_type": "code",
   "execution_count": 11,
   "id": "43356424",
   "metadata": {},
   "outputs": [],
   "source": [
    "text_pipeline = lambda x: vocab(tokenizer(x))\n",
    "label_pipeline = lambda x: int(x)"
   ]
  },
  {
   "cell_type": "code",
   "execution_count": 12,
   "id": "5ddf80d1",
   "metadata": {},
   "outputs": [
    {
     "data": {
      "text/plain": [
       "[276, 0, 41407, 843]"
      ]
     },
     "execution_count": 12,
     "metadata": {},
     "output_type": "execute_result"
    }
   ],
   "source": [
    "text_pipeline('这是词典索引测试')"
   ]
  },
  {
   "cell_type": "code",
   "execution_count": 13,
   "id": "73198aeb",
   "metadata": {},
   "outputs": [
    {
     "data": {
      "text/plain": [
       "1"
      ]
     },
     "execution_count": 13,
     "metadata": {},
     "output_type": "execute_result"
    }
   ],
   "source": [
    "label_pipeline('1')"
   ]
  },
  {
   "cell_type": "markdown",
   "id": "b3dd6f5c",
   "metadata": {},
   "source": [
    "批处理函数\n",
    "--"
   ]
  },
  {
   "cell_type": "code",
   "execution_count": 14,
   "id": "c3bbc68b",
   "metadata": {},
   "outputs": [],
   "source": [
    "import torch\n",
    "from torch.utils.data import DataLoader\n",
    "device = torch.device(\"cuda\" if torch.cuda.is_available() else \"cpu\")\n",
    "# 检测是否有安装了cuda的显卡可用\n",
    "\n",
    "def collate_batch(batch):\n",
    "    label_list, text_list, offsets = [], [], [0]\n",
    "    for (_label, _text) in batch:\n",
    "        label_list.append(label_pipeline(_label))\n",
    "        processed_text = torch.tensor(text_pipeline(_text), dtype=torch.int64) # 评论转换成索引张量\n",
    "        text_list.append(processed_text)\n",
    "        offsets.append(processed_text.size(0))\n",
    "        # 所谓偏移量可以理解为该文本的长度\n",
    "    label_list = torch.tensor(label_list, dtype=torch.int64)\n",
    "    offsets = torch.tensor(offsets[:-1]).cumsum(dim=0)\n",
    "    text_list = torch.cat(text_list)\n",
    "    return label_list.to(device), text_list.to(device), offsets.to(device)    \n",
    "\n",
    "train_iter = get_data('comment.txt')\n",
    "dataloader = DataLoader(train_iter, batch_size=8, shuffle=False, collate_fn=collate_batch)\n",
    "# shuffle=True将打乱数据集，batch_size使得加载器每次读取该数量的条目"
   ]
  },
  {
   "cell_type": "code",
   "execution_count": 15,
   "id": "102a5ab4",
   "metadata": {},
   "outputs": [
    {
     "data": {
      "text/plain": [
       "True"
      ]
     },
     "execution_count": 15,
     "metadata": {},
     "output_type": "execute_result"
    }
   ],
   "source": [
    "torch.cuda.is_available()"
   ]
  },
  {
   "cell_type": "markdown",
   "id": "1a1d65b9",
   "metadata": {},
   "source": [
    "使用LSTM模型\n",
    "---------------------\n",
    "\n",
    "长短期记忆网络——通常被称为 LSTM，是一种特殊的 RNN，能够学习长期依赖性。由 Hochreiter 和 Schmidhuber（1997）提出。\n",
    "\n",
    "![jupyter](https://n.sinaimg.cn/spider202044/731/w1040h491/20200404/0bc7-irtymmw0458671.png)\n"
   ]
  },
  {
   "cell_type": "code",
   "execution_count": 16,
   "id": "cc3997e0",
   "metadata": {},
   "outputs": [],
   "source": [
    "from torch import nn\n",
    "\n",
    "class LSTM(nn.Module):\n",
    "    def __init__(self, vocab_size, embed_dim, num_class, hidden_size, num_layers):\n",
    "        super(LSTM, self).__init__()\n",
    "        self.embedding = nn.EmbeddingBag(vocab_size, embed_dim, sparse=True)\n",
    "        self.lstm = nn.LSTM(embed_dim, hidden_size, num_layers, bidirectional=False)\n",
    "        # num_layers定义了LSTM网络的层数，bidirectional表示是单向LSTM还是双向LSTM（BiLSTM）\n",
    "        self.fc = nn.Linear(hidden_size, num_class)\n",
    "        self.init_weights()\n",
    "    \n",
    "    def init_weights(self):\n",
    "        initrange = 0.5\n",
    "        self.embedding.weight.data.uniform_(-initrange, initrange)\n",
    "        self.fc.weight.data.uniform_(-initrange, initrange)\n",
    "        self.fc.bias.data.zero_()\n",
    "    \n",
    "    def forward(self, text, offsets):\n",
    "        embedded = self.embedding(text, offsets).unsqueeze(1)\n",
    "\n",
    "        output, (hn, cn) = self.lstm(embedded)\n",
    "        return self.fc(output)"
   ]
  },
  {
   "cell_type": "markdown",
   "id": "90c156ee",
   "metadata": {},
   "source": [
    "固定随机数种子\n",
    "--"
   ]
  },
  {
   "cell_type": "code",
   "execution_count": 17,
   "id": "595b2c7c",
   "metadata": {},
   "outputs": [],
   "source": [
    "def seed_torch(seed=6):\n",
    "\n",
    "    #random.seed(seed)\n",
    "    # os.environ['PYTHONHASHSEED'] = str(seed)\n",
    "    #np.random.seed(seed)\n",
    "    torch.manual_seed(seed)\n",
    "    torch.cuda.manual_seed(seed)\n",
    "    torch.backends.cudnn.deterministic = True\n",
    "\n",
    "seed_torch()"
   ]
  },
  {
   "cell_type": "markdown",
   "id": "e5d2749b",
   "metadata": {},
   "source": [
    "启动一个实例\n",
    "--"
   ]
  },
  {
   "cell_type": "code",
   "execution_count": 18,
   "id": "7d6d0d05",
   "metadata": {},
   "outputs": [],
   "source": [
    "train_iter = get_data('comment.txt')\n",
    "num_class = len(set([label for (label, text) in train_iter]))\n",
    "vocab_size = len(vocab)\n",
    "emsize = 64\n",
    "hidden_size = 100\n",
    "num_layers = 1\n",
    "LSTM_model = LSTM(vocab_size, emsize, num_class, hidden_size, num_layers).to(device)"
   ]
  },
  {
   "cell_type": "markdown",
   "id": "be5bf0b0",
   "metadata": {},
   "source": [
    "定义训练和评估函数\n",
    "--"
   ]
  },
  {
   "cell_type": "code",
   "execution_count": 19,
   "id": "231b917e",
   "metadata": {},
   "outputs": [],
   "source": [
    "import time\n",
    "\n",
    "def train(dataloader):\n",
    "    LSTM_model.train()\n",
    "    total_acc, total_count = 0, 0\n",
    "    log_interval = 500\n",
    "    start_time = time.time()\n",
    "\n",
    "    for idx, (label, text, offsets) in enumerate(dataloader):\n",
    "        optimizer.zero_grad()\n",
    "        predicted_label = LSTM_model(text, offsets).squeeze()\n",
    "        loss = criterion(predicted_label, label)\n",
    "        loss.backward()\n",
    "        torch.nn.utils.clip_grad_norm_(LSTM_model.parameters(), 0.1)\n",
    "        optimizer.step()\n",
    "        total_acc += (predicted_label.argmax(1) == label).sum().item()\n",
    "        total_count += label.size(0)\n",
    "        if idx % log_interval == 0 and idx > 0:\n",
    "            elapsed = time.time() - start_time\n",
    "            print('| epoch {:3d} | {:5d}/{:5d} batches '\n",
    "                  '| accuracy {:8.3f}'.format(epoch, idx, len(dataloader),\n",
    "                                              total_acc/total_count))\n",
    "            total_acc, total_count = 0, 0\n",
    "            start_time = time.time()\n",
    "\n",
    "def evaluate(dataloader):\n",
    "    LSTM_model.eval()\n",
    "    total_acc, total_count = 0, 0\n",
    "\n",
    "    with torch.no_grad():\n",
    "        for idx, (label, text, offsets) in enumerate(dataloader):\n",
    "            predicted_label = LSTM_model(text, offsets).squeeze()\n",
    "            loss = criterion(predicted_label, label)\n",
    "            total_acc += (predicted_label.argmax(1) == label).sum().item()\n",
    "            total_count += label.size(0)\n",
    "    return total_acc/total_count"
   ]
  },
  {
   "cell_type": "markdown",
   "id": "cd3d3237",
   "metadata": {},
   "source": [
    "拆分数据集并运行模型，训练集，验证集，测试集8：1：1\n",
    "--"
   ]
  },
  {
   "cell_type": "code",
   "execution_count": 20,
   "id": "457274b3",
   "metadata": {},
   "outputs": [
    {
     "name": "stdout",
     "output_type": "stream",
     "text": [
      "| epoch   1 |   500/ 1264 batches | accuracy    0.854\n",
      "| epoch   1 |  1000/ 1264 batches | accuracy    0.918\n",
      "-----------------------------------------------------------\n",
      "| end of epoch   1 | time: 89.96s | valid accuracy    0.928 \n",
      "-----------------------------------------------------------\n",
      "| epoch   2 |   500/ 1264 batches | accuracy    0.932\n",
      "| epoch   2 |  1000/ 1264 batches | accuracy    0.935\n",
      "-----------------------------------------------------------\n",
      "| end of epoch   2 | time: 75.06s | valid accuracy    0.929 \n",
      "-----------------------------------------------------------\n",
      "| epoch   3 |   500/ 1264 batches | accuracy    0.942\n",
      "| epoch   3 |  1000/ 1264 batches | accuracy    0.943\n",
      "-----------------------------------------------------------\n",
      "| end of epoch   3 | time: 74.91s | valid accuracy    0.928 \n",
      "-----------------------------------------------------------\n",
      "| epoch   4 |   500/ 1264 batches | accuracy    0.956\n",
      "| epoch   4 |  1000/ 1264 batches | accuracy    0.955\n",
      "-----------------------------------------------------------\n",
      "| end of epoch   4 | time: 74.67s | valid accuracy    0.938 \n",
      "-----------------------------------------------------------\n",
      "| epoch   5 |   500/ 1264 batches | accuracy    0.958\n",
      "| epoch   5 |  1000/ 1264 batches | accuracy    0.957\n",
      "-----------------------------------------------------------\n",
      "| end of epoch   5 | time: 75.06s | valid accuracy    0.937 \n",
      "-----------------------------------------------------------\n",
      "| epoch   6 |   500/ 1264 batches | accuracy    0.959\n",
      "| epoch   6 |  1000/ 1264 batches | accuracy    0.959\n",
      "-----------------------------------------------------------\n",
      "| end of epoch   6 | time: 75.11s | valid accuracy    0.939 \n",
      "-----------------------------------------------------------\n",
      "| epoch   7 |   500/ 1264 batches | accuracy    0.960\n",
      "| epoch   7 |  1000/ 1264 batches | accuracy    0.960\n",
      "-----------------------------------------------------------\n",
      "| end of epoch   7 | time: 75.73s | valid accuracy    0.939 \n",
      "-----------------------------------------------------------\n",
      "| epoch   8 |   500/ 1264 batches | accuracy    0.960\n",
      "| epoch   8 |  1000/ 1264 batches | accuracy    0.960\n",
      "-----------------------------------------------------------\n",
      "| end of epoch   8 | time: 75.60s | valid accuracy    0.939 \n",
      "-----------------------------------------------------------\n",
      "| epoch   9 |   500/ 1264 batches | accuracy    0.960\n",
      "| epoch   9 |  1000/ 1264 batches | accuracy    0.959\n",
      "-----------------------------------------------------------\n",
      "| end of epoch   9 | time: 74.95s | valid accuracy    0.940 \n",
      "-----------------------------------------------------------\n",
      "| epoch  10 |   500/ 1264 batches | accuracy    0.959\n",
      "| epoch  10 |  1000/ 1264 batches | accuracy    0.960\n",
      "-----------------------------------------------------------\n",
      "| end of epoch  10 | time: 74.94s | valid accuracy    0.939 \n",
      "-----------------------------------------------------------\n"
     ]
    }
   ],
   "source": [
    "from torch.utils.data.dataset import random_split\n",
    "from torchtext.data.functional import to_map_style_dataset\n",
    "\n",
    "# Hyperparameters超参数\n",
    "EPOCHS = 10 # epoch\n",
    "LR = 10  # learning rate学习率\n",
    "BATCH_SIZE = 64 # batch size for training\n",
    "  \n",
    "criterion = torch.nn.CrossEntropyLoss()\n",
    "optimizer = torch.optim.SGD(LSTM_model.parameters(), lr=LR)\n",
    "scheduler = torch.optim.lr_scheduler.StepLR(optimizer, 1.0, gamma=0.1)\n",
    "total_accu = None\n",
    "\n",
    "data_iter = get_data('comment.txt')\n",
    "dataset = to_map_style_dataset(data_iter)\n",
    "\n",
    "num_train = int(len(dataset) * 0.8)\n",
    "split_train_, split_temp_ = random_split(dataset, [num_train, len(dataset) - num_train])\n",
    "\n",
    "num_valid = int(len(split_temp_) * 0.5)\n",
    "split_valid, split_test = random_split(split_temp_, [num_valid, len(split_temp_) - num_valid])\n",
    "\n",
    "# print(num_train, num_valid, len(dataset) - num_train - num_valid)\n",
    "\n",
    "train_dataloader = DataLoader(split_train_, batch_size=BATCH_SIZE,\n",
    "                              shuffle=True, collate_fn=collate_batch)\n",
    "valid_dataloader = DataLoader(split_valid, batch_size=BATCH_SIZE,\n",
    "                              shuffle=True, collate_fn=collate_batch)\n",
    "test_dataloader = DataLoader(split_test, batch_size=BATCH_SIZE,\n",
    "                             shuffle=True, collate_fn=collate_batch)\n",
    "\n",
    "for epoch in range(1, EPOCHS + 1):\n",
    "    epoch_start_time = time.time()\n",
    "    train(train_dataloader)\n",
    "    accu_val = evaluate(valid_dataloader)\n",
    "    if total_accu is not None and total_accu > accu_val:\n",
    "      scheduler.step()\n",
    "    else:\n",
    "       total_accu = accu_val\n",
    "    print('-' * 59)\n",
    "    print('| end of epoch {:3d} | time: {:5.2f}s | '\n",
    "          'valid accuracy {:8.3f} '.format(epoch,\n",
    "                                           time.time() - epoch_start_time,\n",
    "                                           accu_val))\n",
    "    print('-' * 59)"
   ]
  },
  {
   "cell_type": "markdown",
   "id": "4ab6054d",
   "metadata": {},
   "source": [
    "### 测试集测试"
   ]
  },
  {
   "cell_type": "code",
   "execution_count": 21,
   "id": "3f77a24d",
   "metadata": {},
   "outputs": [
    {
     "name": "stdout",
     "output_type": "stream",
     "text": [
      "Checking the results of test dataset.\n",
      "test accuracy    0.940\n"
     ]
    }
   ],
   "source": [
    "print('Checking the results of test dataset.')\n",
    "accu_test = evaluate(test_dataloader)\n",
    "print('test accuracy {:8.3f}'.format(accu_test))"
   ]
  },
  {
   "cell_type": "markdown",
   "id": "e7c1d04d",
   "metadata": {},
   "source": [
    "### 测试一条评论"
   ]
  },
  {
   "cell_type": "code",
   "execution_count": 22,
   "id": "e63f8180",
   "metadata": {},
   "outputs": [
    {
     "name": "stdout",
     "output_type": "stream",
     "text": [
      "This is a Bad comment\n"
     ]
    }
   ],
   "source": [
    "commment_label = {0: \"Bad comment\",\n",
    "                 1: \"Good comment\"}\n",
    "\n",
    "def predict(text, text_pipeline):\n",
    "    with torch.no_grad():\n",
    "        text = torch.tensor(text_pipeline(text))\n",
    "        output = LSTM_model(text.to(device), torch.tensor([0]).to(device)).squeeze()\n",
    "    return output.argmax().item()\n",
    "\n",
    "ex_text_str = \"华为浏览器，点了半天没反应，多屏选择，有一个页面删除不掉！后悔买了\"\n",
    "print(f\"This is a {commment_label[predict(ex_text_str, text_pipeline)]}\")"
   ]
  },
  {
   "cell_type": "markdown",
   "id": "e2dde05e",
   "metadata": {},
   "source": [
    "### 保存模型参数"
   ]
  },
  {
   "cell_type": "code",
   "execution_count": 181,
   "id": "3e061a95",
   "metadata": {},
   "outputs": [],
   "source": [
    "# 保存模型\n",
    "torch.save(LSTM_model.state_dict(), 'models/lstm_model.pth')"
   ]
  },
  {
   "cell_type": "markdown",
   "id": "7697e3b9",
   "metadata": {},
   "source": [
    "预测结果还行，下面对爬取的商品评论进行预测并将结果写入文件\n",
    "--"
   ]
  },
  {
   "cell_type": "code",
   "execution_count": 23,
   "id": "f5860b3a",
   "metadata": {},
   "outputs": [],
   "source": [
    "# 加载词典\n",
    "import pickle\n",
    "f = open('emb/vocab.pkl', 'rb')\n",
    "vocab = pickle.load(f)"
   ]
  },
  {
   "cell_type": "code",
   "execution_count": 25,
   "id": "8f740f8d",
   "metadata": {},
   "outputs": [
    {
     "data": {
      "text/plain": [
       "LSTM(\n",
       "  (embedding): EmbeddingBag(45707, 64, mode=mean)\n",
       "  (lstm): LSTM(64, 100)\n",
       "  (fc): Linear(in_features=100, out_features=2, bias=True)\n",
       ")"
      ]
     },
     "execution_count": 25,
     "metadata": {},
     "output_type": "execute_result"
    }
   ],
   "source": [
    "import torch\n",
    "# 加载模型\n",
    "\n",
    "# 先实例化一个模型\n",
    "train_iter = get_data('comment.txt')\n",
    "num_class = len(set([label for (label, text) in train_iter]))\n",
    "vocab_size = 45707\n",
    "emsize = 64\n",
    "hidden_size = 100\n",
    "num_layers = 1\n",
    "LSTM_model = LSTM(vocab_size, emsize, num_class, hidden_size, num_layers)\n",
    "# 加载状态字典\n",
    "LSTM_model.load_state_dict(torch.load('models/lstm_model.pth'))\n",
    "LSTM_model.to(device)"
   ]
  },
  {
   "cell_type": "code",
   "execution_count": 26,
   "id": "3411c349",
   "metadata": {},
   "outputs": [],
   "source": [
    "def get_comment_label(comments, text_pipeline):\n",
    "    labels = []\n",
    "    with torch.no_grad():\n",
    "        for comment in comments:\n",
    "            comment = torch.LongTensor(text_pipeline(comment))\n",
    "            output = LSTM_model(comment.to(device), torch.tensor([0]).to(device)).squeeze()\n",
    "            label = output.argmax().item()\n",
    "            labels.append(label)\n",
    "    return labels\n",
    "ex_text_str = '质量特别差，朋友门千万不要买，我说的是真心话，系统特别卡，\\\n",
    "                看视频都卡的不要不要的了，是水货不是正品，还不让退货也不让换呢，千万不要买。。'"
   ]
  },
  {
   "cell_type": "code",
   "execution_count": 27,
   "id": "a9927c98",
   "metadata": {},
   "outputs": [
    {
     "name": "stdout",
     "output_type": "stream",
     "text": [
      "This is a Bad comment\n"
     ]
    }
   ],
   "source": [
    "text_pipeline = lambda x: vocab(tokenizer(x))\n",
    "commment_label = {0: \"Bad comment\",\n",
    "                 1: \"Good comment\"}\n",
    "label = get_comment_label([ex_text_str], text_pipeline)[0]\n",
    "print(f\"This is a {commment_label[label]}\")"
   ]
  },
  {
   "cell_type": "code",
   "execution_count": 28,
   "id": "c03c4c20",
   "metadata": {},
   "outputs": [],
   "source": [
    "import pandas as pd"
   ]
  },
  {
   "cell_type": "code",
   "execution_count": 30,
   "id": "7685481d",
   "metadata": {},
   "outputs": [],
   "source": [
    "df = pd.read_csv('data/100012779151.csv')\n",
    "df['sentiment'] = get_comment_label(list(df['content']), text_pipeline)"
   ]
  },
  {
   "cell_type": "code",
   "execution_count": 32,
   "id": "fa120267",
   "metadata": {},
   "outputs": [],
   "source": [
    "df.to_csv('data/1.csv')"
   ]
  },
  {
   "cell_type": "code",
   "execution_count": 33,
   "id": "93908d11",
   "metadata": {},
   "outputs": [],
   "source": [
    "products_id = ['100012779151', '100027683422', '100021725644', '10030539565679', '100024403104', '100021318642']"
   ]
  },
  {
   "cell_type": "code",
   "execution_count": 34,
   "id": "664ba62a",
   "metadata": {},
   "outputs": [],
   "source": [
    "def write_label(product_id):\n",
    "    df = pd.read_csv(f'data/{product_id}.csv')\n",
    "    df['sentiment'] = get_comment_label(list(df['content']), text_pipeline)\n",
    "    df.to_csv(f'data/{product_id}.csv')\n",
    "    print(f'{product_id} done')"
   ]
  },
  {
   "cell_type": "code",
   "execution_count": 35,
   "id": "caeb5d77",
   "metadata": {},
   "outputs": [
    {
     "name": "stdout",
     "output_type": "stream",
     "text": [
      "100012779151 done\n",
      "100027683422 done\n",
      "100021725644 done\n",
      "10030539565679 done\n",
      "100024403104 done\n",
      "100021318642 done\n"
     ]
    }
   ],
   "source": [
    "for product_id in products_id:\n",
    "    write_label(product_id)"
   ]
  }
 ],
 "metadata": {
  "kernelspec": {
   "display_name": "Python [conda env:pytorch]",
   "language": "python",
   "name": "conda-env-pytorch-py"
  },
  "language_info": {
   "codemirror_mode": {
    "name": "ipython",
    "version": 3
   },
   "file_extension": ".py",
   "mimetype": "text/x-python",
   "name": "python",
   "nbconvert_exporter": "python",
   "pygments_lexer": "ipython3",
   "version": "3.8.12"
  }
 },
 "nbformat": 4,
 "nbformat_minor": 5
}
